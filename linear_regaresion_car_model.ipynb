{
 "cells": [
  {
   "cell_type": "code",
   "execution_count": 23,
   "metadata": {},
   "outputs": [
    {
     "name": "stdout",
     "output_type": "stream",
     "text": [
      "17273621.21635692\n"
     ]
    }
   ],
   "source": [
    "import numpy as np\n",
    "import pandas as pd\n",
    "from sklearn.model_selection import train_test_split\n",
    "from sklearn.metrics import mean_squared_error\n",
    "from sklearn.linear_model import LinearRegression\n",
    "#load data file\n",
    "balance_data=pd.read_csv('E:\\datascienceproject\\cars.csv',sep=',',header=0)"
   ]
  },
  {
   "cell_type": "code",
   "execution_count": 15,
   "metadata": {},
   "outputs": [
    {
     "name": "stdout",
     "output_type": "stream",
     "text": [
      "dataset length: 962\n",
      "data shape (962, 6)\n"
     ]
    }
   ],
   "source": [
    "print(\"dataset length:\",len(balance_data))\n",
    "print(\"data shape\",balance_data.shape)"
   ]
  },
  {
   "cell_type": "code",
   "execution_count": 16,
   "metadata": {},
   "outputs": [
    {
     "name": "stdout",
     "output_type": "stream",
     "text": [
      "dataset::\n"
     ]
    },
    {
     "data": {
      "text/html": [
       "<div>\n",
       "<style scoped>\n",
       "    .dataframe tbody tr th:only-of-type {\n",
       "        vertical-align: middle;\n",
       "    }\n",
       "\n",
       "    .dataframe tbody tr th {\n",
       "        vertical-align: top;\n",
       "    }\n",
       "\n",
       "    .dataframe thead th {\n",
       "        text-align: right;\n",
       "    }\n",
       "</style>\n",
       "<table border=\"1\" class=\"dataframe\">\n",
       "  <thead>\n",
       "    <tr style=\"text-align: right;\">\n",
       "      <th></th>\n",
       "      <th>0</th>\n",
       "      <th>28</th>\n",
       "      <th>23</th>\n",
       "      <th>0.1</th>\n",
       "      <th>4099</th>\n",
       "      <th>620</th>\n",
       "    </tr>\n",
       "  </thead>\n",
       "  <tbody>\n",
       "    <tr>\n",
       "      <th>0</th>\n",
       "      <td>0</td>\n",
       "      <td>26</td>\n",
       "      <td>27</td>\n",
       "      <td>0</td>\n",
       "      <td>2677</td>\n",
       "      <td>1792</td>\n",
       "    </tr>\n",
       "    <tr>\n",
       "      <th>1</th>\n",
       "      <td>1</td>\n",
       "      <td>30</td>\n",
       "      <td>58</td>\n",
       "      <td>41576</td>\n",
       "      <td>6215</td>\n",
       "      <td>27754</td>\n",
       "    </tr>\n",
       "    <tr>\n",
       "      <th>2</th>\n",
       "      <td>1</td>\n",
       "      <td>26</td>\n",
       "      <td>25</td>\n",
       "      <td>43172</td>\n",
       "      <td>7626</td>\n",
       "      <td>28256</td>\n",
       "    </tr>\n",
       "    <tr>\n",
       "      <th>3</th>\n",
       "      <td>1</td>\n",
       "      <td>20</td>\n",
       "      <td>17</td>\n",
       "      <td>6979</td>\n",
       "      <td>8071</td>\n",
       "      <td>4438</td>\n",
       "    </tr>\n",
       "    <tr>\n",
       "      <th>4</th>\n",
       "      <td>1</td>\n",
       "      <td>58</td>\n",
       "      <td>18</td>\n",
       "      <td>0</td>\n",
       "      <td>1262</td>\n",
       "      <td>2102</td>\n",
       "    </tr>\n",
       "  </tbody>\n",
       "</table>\n",
       "</div>"
      ],
      "text/plain": [
       "   0  28  23    0.1  4099    620\n",
       "0  0  26  27      0  2677   1792\n",
       "1  1  30  58  41576  6215  27754\n",
       "2  1  26  25  43172  7626  28256\n",
       "3  1  20  17   6979  8071   4438\n",
       "4  1  58  18      0  1262   2102"
      ]
     },
     "execution_count": 16,
     "metadata": {},
     "output_type": "execute_result"
    }
   ],
   "source": [
    "print(\"dataset::\")\n",
    "balance_data.head()"
   ]
  },
  {
   "cell_type": "code",
   "execution_count": 20,
   "metadata": {},
   "outputs": [
    {
     "data": {
      "text/plain": [
       "LinearRegression(copy_X=True, fit_intercept=True, n_jobs=1, normalize=False)"
      ]
     },
     "execution_count": 20,
     "metadata": {},
     "output_type": "execute_result"
    }
   ],
   "source": [
    "#separting the target variable\n",
    "X=balance_data.values[:,0:5]\n",
    "Y=balance_data.values[:,5]\n",
    "#splitting dataset into test and train\n",
    "x_train, x_test, y_train, y_test=train_test_split(X,Y,test_size=0.2,random_state=100)\n",
    "#function to perfrom training with LinearRegression\n",
    "regressor = LinearRegression()\n",
    "regressor.fit(x_train, y_train)\n"
   ]
  },
  {
   "cell_type": "code",
   "execution_count": 21,
   "metadata": {},
   "outputs": [
    {
     "name": "stdout",
     "output_type": "stream",
     "text": [
      "[ 8795.77054757 28082.54526716  4552.65819934 21464.87263608\n",
      " 10272.19382123 20567.49271382 10077.36661679  6577.62904512\n",
      "  4568.97305334  3972.91138657 27131.12164324  4482.7547649\n",
      " 12017.22566286  6000.10807547  2828.57134789  5378.10876325\n",
      "  8912.93230651 13171.6013426   2847.35621764 12485.84867453\n",
      " 11722.09028483 21571.79606595  6259.78432093  4893.93692992\n",
      "  8728.35206774 10327.47630528  4498.55471798 23876.64017885\n",
      " 32783.5721408   5050.73532308 25445.60765893  2071.39432384\n",
      "  3817.57737461 12591.5720421   5508.12310417 10324.86089332\n",
      " 10998.58601592 10255.32537336 28714.21099746 15408.52318315\n",
      " 25304.09685982  6354.96994709 10526.07943936  8091.41287644\n",
      "  6746.42027597  1169.38746781  3892.12885848  5766.68471654\n",
      " 12352.66794941  3687.640857    8419.87105168 31273.55372979\n",
      " 23966.09488834 25127.53387088 26831.61008017   837.09728449\n",
      " 22956.43956661  9884.78804486 13745.04673523 16023.02410407\n",
      "  2588.70903605 24808.63148831  2891.49011612  4432.28455379\n",
      " 25125.57604932  5078.0546402  23924.7647737  11517.60085974\n",
      "  8557.99199988  6881.05627692  8360.77633047  2236.72854389\n",
      " 28214.96932792 27577.41994244 10239.79097996 23182.52835026\n",
      " 12985.66489703  8109.73457225  4635.02558741 23073.99741801\n",
      " 20073.22600804  6046.0986219   8255.51946609 25406.56414961\n",
      " 11287.30078078  9400.8291723  11374.99805895  2116.16018912\n",
      "  3347.8771403  25044.57899062 12115.21741386 11073.40699873\n",
      "  8868.85291978  8829.33821489 12202.06630943 10420.46394196\n",
      "  2105.36073525  8771.81804017  7474.68414648  2922.1933712\n",
      " 11963.43674111 22173.3758371  15468.85309964 10128.92610071\n",
      "  4329.61557313  8259.13202811  7486.59137592  8566.71040568\n",
      "  -436.72044856 10149.92503828  4461.84903279 21288.92300172\n",
      " 10223.07801827  3046.6064863  32814.47334885  2593.03119607\n",
      "  3121.58483428 16848.50614717  3778.8258326  11162.94706611\n",
      " 10458.41469404  6651.48401426 35474.15092064 24414.59034312\n",
      " 10120.95552543 11845.54382192 23602.54956566  8148.30330683\n",
      " 17664.13593115 14059.55261714  8331.03214988 25588.4648238\n",
      "  6507.1045335   2761.29054859  2169.9006254   8164.40943292\n",
      "  4836.53621444  8780.19709064  5814.75179146 23787.03720969\n",
      " 27687.73405363 10889.51701728  5465.53654769  4249.3376864\n",
      " 11288.05016728  2797.1523267  18444.50766962 21802.90720469\n",
      " 30217.68854977  2392.41849167 21048.94701004  4652.58458024\n",
      " 23603.37165572  6975.07945789  3546.56718433  4538.53600578\n",
      "  7768.90432804  9086.69303332  2780.48984911  4616.46098221\n",
      " 15718.79293078  9455.70409348  6924.37082786 10985.58893432\n",
      " 19710.43892405  4316.21998315 15414.10351931  9278.89884326\n",
      "  8455.51784265 15672.4136055  15428.6279148   4359.44737424\n",
      "  3361.60611206 12321.73823601 29038.54643022 13003.04236985\n",
      "  3300.5932967   9804.06474034 14520.1641853   6193.50923754\n",
      "  4326.44786885  6350.38734441  8642.06263936  2920.23895156\n",
      " 30035.353681   29341.48067037  3772.19149438  6987.90043206\n",
      " 16115.31083312  3338.41813316 13620.01074259 10434.06622966\n",
      " 16717.63857846]\n"
     ]
    }
   ],
   "source": [
    "y_pred = regressor.predict(x_test)\n",
    "print(y_pred)"
   ]
  },
  {
   "cell_type": "code",
   "execution_count": 22,
   "metadata": {},
   "outputs": [
    {
     "name": "stdout",
     "output_type": "stream",
     "text": [
      "17273621.21635692\n"
     ]
    }
   ],
   "source": [
    "print(mean_squared_error(y_test, y_pred))"
   ]
  },
  {
   "cell_type": "code",
   "execution_count": null,
   "metadata": {},
   "outputs": [],
   "source": []
  }
 ],
 "metadata": {
  "kernelspec": {
   "display_name": "Python 3",
   "language": "python",
   "name": "python3"
  },
  "language_info": {
   "codemirror_mode": {
    "name": "ipython",
    "version": 3
   },
   "file_extension": ".py",
   "mimetype": "text/x-python",
   "name": "python",
   "nbconvert_exporter": "python",
   "pygments_lexer": "ipython3",
   "version": "3.7.3"
  }
 },
 "nbformat": 4,
 "nbformat_minor": 2
}
