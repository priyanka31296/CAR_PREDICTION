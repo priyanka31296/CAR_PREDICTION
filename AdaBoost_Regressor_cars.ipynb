{
 "cells": [
  {
   "cell_type": "code",
   "execution_count": 1,
   "metadata": {},
   "outputs": [
    {
     "data": {
      "text/plain": [
       "14362059.209311718"
      ]
     },
     "execution_count": 1,
     "metadata": {},
     "output_type": "execute_result"
    }
   ],
   "source": [
    "from sklearn.ensemble import AdaBoostRegressor\n",
    "import numpy as np\n",
    "import pandas as pd\n",
    "from sklearn.model_selection import train_test_split\n",
    "from sklearn.metrics import mean_squared_error\n",
    "#load data file\n",
    "balance_data=pd.read_csv('E:\\datascienceproject\\cars.csv',sep=',',header=0)\n",
    "#separting the target variable\n",
    "X=balance_data.values[:,0:5]\n",
    "Y=balance_data.values[:,5]\n",
    "#splitting dataset into test and train\n",
    "x_train, x_test, y_train, y_test=train_test_split(X,Y,test_size=0.2,random_state=100)\n",
    "#function to perfrom training with AdaBoostRegressor\n",
    "reg = AdaBoostRegressor()\n",
    "reg.fit(x_train,y_train)\n",
    "# Predicting a new result\n",
    "y_pred = reg.predict(x_test)\n",
    "# for checking the ERROR\n",
    "mean_squared_error(y_test, y_pred)"
   ]
  },
  {
   "cell_type": "code",
   "execution_count": null,
   "metadata": {},
   "outputs": [],
   "source": []
  }
 ],
 "metadata": {
  "kernelspec": {
   "display_name": "Python 3",
   "language": "python",
   "name": "python3"
  },
  "language_info": {
   "codemirror_mode": {
    "name": "ipython",
    "version": 3
   },
   "file_extension": ".py",
   "mimetype": "text/x-python",
   "name": "python",
   "nbconvert_exporter": "python",
   "pygments_lexer": "ipython3",
   "version": "3.6.5"
  }
 },
 "nbformat": 4,
 "nbformat_minor": 2
}
